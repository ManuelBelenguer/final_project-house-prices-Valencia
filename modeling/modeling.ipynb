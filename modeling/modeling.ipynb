{
 "cells": [
  {
   "cell_type": "markdown",
   "metadata": {},
   "source": [
    "#### Import libraries"
   ]
  },
  {
   "cell_type": "code",
   "execution_count": 41,
   "metadata": {},
   "outputs": [],
   "source": [
    "import pandas as pd\n",
    "from sklearn.model_selection import train_test_split\n",
    "from sklearn.model_selection import cross_val_score, GridSearchCV\n",
    "from sklearn.ensemble import RandomForestRegressor\n",
    "from sklearn.preprocessing import MinMaxScaler\n",
    "from sklearn import metrics\n",
    "from sklearn.metrics import mean_absolute_error, mean_squared_error, r2_score\n",
    "import numpy as np\n",
    "import statistics\n",
    "import pickle\n",
    "import seaborn as sns\n",
    "import matplotlib.pyplot as plt \n",
    "import warnings"
   ]
  },
  {
   "cell_type": "code",
   "execution_count": 42,
   "metadata": {},
   "outputs": [],
   "source": [
    "data1 = pd.read_csv('../data_cleaning.preprocessing/location_data/real_dif_data.csv')\n",
    "data2 = pd.read_csv('../data_cleaning.preprocessing/location_data/same_data_ok2.csv')"
   ]
  },
  {
   "cell_type": "markdown",
   "metadata": {},
   "source": [
    "### First approach"
   ]
  },
  {
   "cell_type": "markdown",
   "metadata": {},
   "source": [
    "##### Concatenate both data frames (one containing coordinates based on address, the other one coordinates based on neghbourhood)"
   ]
  },
  {
   "cell_type": "code",
   "execution_count": 43,
   "metadata": {},
   "outputs": [],
   "source": [
    "data = pd.concat([data1, data2], axis=0)"
   ]
  },
  {
   "cell_type": "code",
   "execution_count": 44,
   "metadata": {},
   "outputs": [],
   "source": [
    "data['price'] = data['price'].apply(lambda x: x*1000)\n",
    "data = pd.DataFrame(data,columns=['address','neighbourhood','district','sqft_surface', 'bedrooms', 'bathrooms', 'new_construction', 'latitude', 'longitude', 'price'])"
   ]
  },
  {
   "cell_type": "code",
   "execution_count": 47,
   "metadata": {},
   "outputs": [],
   "source": [
    "data.to_csv('data_ready.csv', index=False)"
   ]
  },
  {
   "cell_type": "code",
   "execution_count": 48,
   "metadata": {},
   "outputs": [
    {
     "data": {
      "text/html": [
       "<div>\n",
       "<style scoped>\n",
       "    .dataframe tbody tr th:only-of-type {\n",
       "        vertical-align: middle;\n",
       "    }\n",
       "\n",
       "    .dataframe tbody tr th {\n",
       "        vertical-align: top;\n",
       "    }\n",
       "\n",
       "    .dataframe thead th {\n",
       "        text-align: right;\n",
       "    }\n",
       "</style>\n",
       "<table border=\"1\" class=\"dataframe\">\n",
       "  <thead>\n",
       "    <tr style=\"text-align: right;\">\n",
       "      <th></th>\n",
       "      <th>address</th>\n",
       "      <th>neighbourhood</th>\n",
       "      <th>district</th>\n",
       "      <th>sqft_surface</th>\n",
       "      <th>bedrooms</th>\n",
       "      <th>bathrooms</th>\n",
       "      <th>new_construction</th>\n",
       "      <th>latitude</th>\n",
       "      <th>longitude</th>\n",
       "      <th>price</th>\n",
       "    </tr>\n",
       "  </thead>\n",
       "  <tbody>\n",
       "    <tr>\n",
       "      <th>0</th>\n",
       "      <td>Avinguda del CID</td>\n",
       "      <td>Soternes</td>\n",
       "      <td>L'Olivereta</td>\n",
       "      <td>100.0</td>\n",
       "      <td>3</td>\n",
       "      <td>1</td>\n",
       "      <td>None</td>\n",
       "      <td>39.468547</td>\n",
       "      <td>-0.397934</td>\n",
       "      <td>104000.0</td>\n",
       "    </tr>\n",
       "    <tr>\n",
       "      <th>1</th>\n",
       "      <td>Avenida de Gaspar Aguilar</td>\n",
       "      <td>La Raiosa</td>\n",
       "      <td>Jesús</td>\n",
       "      <td>102.0</td>\n",
       "      <td>3</td>\n",
       "      <td>1</td>\n",
       "      <td>None</td>\n",
       "      <td>39.456520</td>\n",
       "      <td>-0.390126</td>\n",
       "      <td>97000.0</td>\n",
       "    </tr>\n",
       "    <tr>\n",
       "      <th>2</th>\n",
       "      <td>Carrer de les Alqueríes de Bellver</td>\n",
       "      <td>Benicalap</td>\n",
       "      <td>Benicalap</td>\n",
       "      <td>83.0</td>\n",
       "      <td>3</td>\n",
       "      <td>1</td>\n",
       "      <td>None</td>\n",
       "      <td>39.493323</td>\n",
       "      <td>-0.396183</td>\n",
       "      <td>81000.0</td>\n",
       "    </tr>\n",
       "    <tr>\n",
       "      <th>3</th>\n",
       "      <td>calle de Planas</td>\n",
       "      <td>En Corts</td>\n",
       "      <td>Quatre Carreres</td>\n",
       "      <td>77.0</td>\n",
       "      <td>3</td>\n",
       "      <td>1</td>\n",
       "      <td>None</td>\n",
       "      <td>39.457017</td>\n",
       "      <td>-0.370454</td>\n",
       "      <td>99000.0</td>\n",
       "    </tr>\n",
       "    <tr>\n",
       "      <th>4</th>\n",
       "      <td>calle de Jaime Beltrán</td>\n",
       "      <td>La Raiosa</td>\n",
       "      <td>Jesús</td>\n",
       "      <td>88.0</td>\n",
       "      <td>1</td>\n",
       "      <td>1</td>\n",
       "      <td>None</td>\n",
       "      <td>39.456544</td>\n",
       "      <td>-0.388492</td>\n",
       "      <td>129900.0</td>\n",
       "    </tr>\n",
       "  </tbody>\n",
       "</table>\n",
       "</div>"
      ],
      "text/plain": [
       "                              address neighbourhood         district  \\\n",
       "0                    Avinguda del CID     Soternes       L'Olivereta   \n",
       "1           Avenida de Gaspar Aguilar    La Raiosa             Jesús   \n",
       "2  Carrer de les Alqueríes de Bellver    Benicalap         Benicalap   \n",
       "3                     calle de Planas     En Corts   Quatre Carreres   \n",
       "4              calle de Jaime Beltrán    La Raiosa             Jesús   \n",
       "\n",
       "   sqft_surface  bedrooms  bathrooms new_construction   latitude  longitude  \\\n",
       "0         100.0         3          1             None  39.468547  -0.397934   \n",
       "1         102.0         3          1             None  39.456520  -0.390126   \n",
       "2          83.0         3          1             None  39.493323  -0.396183   \n",
       "3          77.0         3          1             None  39.457017  -0.370454   \n",
       "4          88.0         1          1             None  39.456544  -0.388492   \n",
       "\n",
       "      price  \n",
       "0  104000.0  \n",
       "1   97000.0  \n",
       "2   81000.0  \n",
       "3   99000.0  \n",
       "4  129900.0  "
      ]
     },
     "execution_count": 48,
     "metadata": {},
     "output_type": "execute_result"
    }
   ],
   "source": [
    "data.head()"
   ]
  },
  {
   "cell_type": "markdown",
   "metadata": {},
   "source": [
    "##### Getting dummies & dataset ready for model"
   ]
  },
  {
   "cell_type": "code",
   "execution_count": 6,
   "metadata": {},
   "outputs": [],
   "source": [
    "dummies = pd.get_dummies(data[['new_construction','district','neighbourhood']], drop_first=True)"
   ]
  },
  {
   "cell_type": "code",
   "execution_count": 7,
   "metadata": {},
   "outputs": [],
   "source": [
    "df = data.drop(columns=['index', 'price', 'address', 'neighbourhood', 'district','new_construction'])\n",
    "X = pd.concat([df, dummies], axis=1)"
   ]
  },
  {
   "cell_type": "code",
   "execution_count": 8,
   "metadata": {},
   "outputs": [],
   "source": [
    "y = data['price']"
   ]
  },
  {
   "cell_type": "markdown",
   "metadata": {},
   "source": [
    "##### Train/test split and model training"
   ]
  },
  {
   "cell_type": "code",
   "execution_count": 9,
   "metadata": {},
   "outputs": [],
   "source": [
    "X_train, X_test, y_train, y_test = train_test_split(X, y, test_size=0.33, random_state=42)"
   ]
  },
  {
   "cell_type": "code",
   "execution_count": 10,
   "metadata": {},
   "outputs": [
    {
     "data": {
      "text/plain": [
       "RandomForestRegressor(n_estimators=700, random_state=0)"
      ]
     },
     "execution_count": 10,
     "metadata": {},
     "output_type": "execute_result"
    }
   ],
   "source": [
    "RFReg = RandomForestRegressor(n_estimators = 700, random_state = 0)\n",
    "  \n",
    "#Fit the random forest regressor with training data represented by X_train and y_train\n",
    "RFReg.fit(X_train, y_train)"
   ]
  },
  {
   "cell_type": "code",
   "execution_count": 11,
   "metadata": {},
   "outputs": [],
   "source": [
    "test_predictions = RFReg.predict((X_test))\n",
    "train_predictions = RFReg.predict((X_train))"
   ]
  },
  {
   "cell_type": "markdown",
   "metadata": {},
   "source": [
    "##### Error matrix train set"
   ]
  },
  {
   "cell_type": "code",
   "execution_count": 12,
   "metadata": {},
   "outputs": [
    {
     "name": "stdout",
     "output_type": "stream",
     "text": [
      "The mean absolute error of the model in the test set is: 12390.84\n",
      "The mean squared error of the model in the test set is: 374625899.97\n",
      "The root mean squared error of the model in the test set is: 19355.26\n",
      "The R2 of the model in the test set is: 0.96\n",
      "The Adjusted R2 of the model in the test set is: 0.959\n"
     ]
    }
   ],
   "source": [
    "MAE = mean_absolute_error(y_train,train_predictions)\n",
    "MSE = mean_squared_error(y_train,train_predictions)\n",
    "RMSE = np.sqrt(MSE)\n",
    "R2 = r2_score(y_train,train_predictions)\n",
    "Adj_r2 = round(1-((1-(R2))*(2339-1))/(2339-110-1),3)\n",
    "\n",
    "print(\"The mean absolute error of the model in the test set is: %6.2f\" % (MAE))\n",
    "print(\"The mean squared error of the model in the test set is: %6.2f\" % (MSE))\n",
    "print(\"The root mean squared error of the model in the test set is: %6.2f\" % (RMSE))\n",
    "print(\"The R2 of the model in the test set is: %4.2f\" % (R2))\n",
    "print(\"The Adjusted R2 of the model in the test set is:\", (Adj_r2))\n"
   ]
  },
  {
   "cell_type": "markdown",
   "metadata": {},
   "source": [
    "##### Error matrix test set"
   ]
  },
  {
   "cell_type": "code",
   "execution_count": 13,
   "metadata": {},
   "outputs": [
    {
     "name": "stdout",
     "output_type": "stream",
     "text": [
      "The mean absolute error of the model in the test set is: 30009.21\n",
      "The mean squared error of the model in the test set is: 2168290628.98\n",
      "The root mean squared error of the model in the test set is: 46564.91\n",
      "The R2 of the model in the test set is: 0.78\n",
      "The Adjusted R2 of the model in the test set is: 0.767\n",
      "MAPE is: 18.2 %\n"
     ]
    }
   ],
   "source": [
    "MAE = mean_absolute_error(y_test,test_predictions)\n",
    "MSE = mean_squared_error(y_test,test_predictions)\n",
    "RMSE = np.sqrt(MSE)\n",
    "R2 = r2_score(y_test,test_predictions)\n",
    "Adj_r2 = round(1-((1-(R2))*(2339-1))/(2339-110-1),3)\n",
    "\n",
    "y_t = list(y_test)\n",
    "y_pred = test_predictions\n",
    "relative_error = []\n",
    "for j in range(len(test_predictions)):\n",
    "    relative_error.append(abs(y_t[j] - y_pred[j])/y_t[j])\n",
    "rel_e = statistics.mean(relative_error)\n",
    "\n",
    "\n",
    "print(\"The mean absolute error of the model in the test set is: %6.2f\" % (MAE))\n",
    "print(\"The mean squared error of the model in the test set is: %6.2f\" % (MSE))\n",
    "print(\"The root mean squared error of the model in the test set is: %6.2f\" % (RMSE))\n",
    "print(\"The R2 of the model in the test set is: %4.2f\" % (R2))\n",
    "print(\"The Adjusted R2 of the model in the test set is:\", (Adj_r2))\n",
    "print(\"MAPE is: %4.1f %%\" % (rel_e*100.))"
   ]
  },
  {
   "cell_type": "markdown",
   "metadata": {},
   "source": [
    "### Second approach"
   ]
  },
  {
   "cell_type": "code",
   "execution_count": 23,
   "metadata": {},
   "outputs": [],
   "source": [
    "data = pd.read_csv('../data_cleaning.preprocessing/location_data/real_dif_data.csv')"
   ]
  },
  {
   "cell_type": "code",
   "execution_count": 24,
   "metadata": {},
   "outputs": [],
   "source": [
    "data['price'] = data['price'].apply(lambda x: x*1000)"
   ]
  },
  {
   "cell_type": "markdown",
   "metadata": {},
   "source": [
    "##### Getting dummies & dataset ready for model"
   ]
  },
  {
   "cell_type": "code",
   "execution_count": 25,
   "metadata": {},
   "outputs": [],
   "source": [
    "dummies = pd.get_dummies(data[['new_construction','district','neighbourhood']], drop_first=True)"
   ]
  },
  {
   "cell_type": "code",
   "execution_count": 26,
   "metadata": {},
   "outputs": [],
   "source": [
    "df = data.drop(columns=['index', 'price', 'address', 'neighbourhood', 'district','new_construction'])\n",
    "X = pd.concat([df, dummies], axis=1)"
   ]
  },
  {
   "cell_type": "code",
   "execution_count": 27,
   "metadata": {},
   "outputs": [],
   "source": [
    "y = data['price']"
   ]
  },
  {
   "cell_type": "markdown",
   "metadata": {},
   "source": [
    "##### Train/test split and model training"
   ]
  },
  {
   "cell_type": "code",
   "execution_count": 28,
   "metadata": {},
   "outputs": [],
   "source": [
    "X_train, X_test, y_train, y_test = train_test_split(X, y, test_size=0.33, random_state=42)"
   ]
  },
  {
   "cell_type": "code",
   "execution_count": 29,
   "metadata": {},
   "outputs": [
    {
     "data": {
      "text/plain": [
       "RandomForestRegressor(n_estimators=700, random_state=0)"
      ]
     },
     "execution_count": 29,
     "metadata": {},
     "output_type": "execute_result"
    }
   ],
   "source": [
    "RFReg = RandomForestRegressor(n_estimators = 700, random_state = 0)\n",
    "  \n",
    "#Fit the random forest regressor with training data represented by X_train and y_train\n",
    "RFReg.fit(X_train, y_train)"
   ]
  },
  {
   "cell_type": "code",
   "execution_count": 30,
   "metadata": {},
   "outputs": [],
   "source": [
    "test_predictions = RFReg.predict((X_test))\n",
    "train_predictions = RFReg.predict((X_train))"
   ]
  },
  {
   "cell_type": "markdown",
   "metadata": {},
   "source": [
    "##### Error matrix train set"
   ]
  },
  {
   "cell_type": "code",
   "execution_count": 31,
   "metadata": {},
   "outputs": [
    {
     "name": "stdout",
     "output_type": "stream",
     "text": [
      "The mean absolute error of the model in the test set is: 12006.66\n",
      "The mean squared error of the model in the test set is: 316381547.67\n",
      "The root mean squared error of the model in the test set is: 17787.12\n",
      "The R2 of the model in the test set is: 0.97\n",
      "The Adjusted R2 of the model in the test set is: 0.968\n"
     ]
    }
   ],
   "source": [
    "MAE = mean_absolute_error(y_train,train_predictions)\n",
    "MSE = mean_squared_error(y_train,train_predictions)\n",
    "RMSE = np.sqrt(MSE)\n",
    "R2 = r2_score(y_train,train_predictions)\n",
    "Adj_r2 = round(1-((1-(R2))*(2339-1))/(2339-110-1),3)\n",
    "\n",
    "print(\"The mean absolute error of the model in the test set is: %6.2f\" % (MAE))\n",
    "print(\"The mean squared error of the model in the test set is: %6.2f\" % (MSE))\n",
    "print(\"The root mean squared error of the model in the test set is: %6.2f\" % (RMSE))\n",
    "print(\"The R2 of the model in the test set is: %4.2f\" % (R2))\n",
    "print(\"The Adjusted R2 of the model in the test set is:\", (Adj_r2))"
   ]
  },
  {
   "cell_type": "markdown",
   "metadata": {},
   "source": [
    "##### Error matrix test set"
   ]
  },
  {
   "cell_type": "code",
   "execution_count": 32,
   "metadata": {},
   "outputs": [
    {
     "name": "stdout",
     "output_type": "stream",
     "text": [
      "The mean absolute error of the model in the test set is: 31494.38\n",
      "The mean squared error of the model in the test set is: 2186998156.75\n",
      "The root mean squared error of the model in the test set is: 46765.35\n",
      "The R2 of the model in the test set is: 0.80\n",
      "The Adjusted R2 of the model in the test set is: 0.794\n",
      "MAPE is: 18.9 %\n"
     ]
    }
   ],
   "source": [
    "MAE = mean_absolute_error(y_test,test_predictions)\n",
    "MSE = mean_squared_error(y_test,test_predictions)\n",
    "RMSE = np.sqrt(MSE)\n",
    "R2 = r2_score(y_test,test_predictions)\n",
    "Adj_r2 = round(1-((1-(R2))*(2339-1))/(2339-110-1),3)\n",
    "relative_error = []\n",
    "for j in range(len(test_predictions)):\n",
    "    relative_error.append(abs(y_t[j] - y_pred[j])/y_t[j])\n",
    "rel_e = statistics.mean(relative_error)\n",
    "\n",
    "print(\"The mean absolute error of the model in the test set is: %6.2f\" % (MAE))\n",
    "print(\"The mean squared error of the model in the test set is: %6.2f\" % (MSE))\n",
    "print(\"The root mean squared error of the model in the test set is: %6.2f\" % (RMSE))\n",
    "print(\"The R2 of the model in the test set is: %4.2f\" % (R2))\n",
    "print(\"The Adjusted R2 of the model in the test set is:\", (Adj_r2))\n",
    "print(\"MAPE is: %4.1f %%\" % (rel_e*100.))"
   ]
  },
  {
   "cell_type": "markdown",
   "metadata": {},
   "source": [
    "#### Create a pickle with the model"
   ]
  },
  {
   "cell_type": "code",
   "execution_count": 33,
   "metadata": {},
   "outputs": [],
   "source": [
    "file_name = \"model\"\n",
    "outfile = open(file_name,'wb')\n",
    "\n",
    "pickle.dump(RFReg,outfile)\n",
    "outfile.close()"
   ]
  }
 ],
 "metadata": {
  "kernelspec": {
   "display_name": "Python 3",
   "language": "python",
   "name": "python3"
  },
  "language_info": {
   "codemirror_mode": {
    "name": "ipython",
    "version": 3
   },
   "file_extension": ".py",
   "mimetype": "text/x-python",
   "name": "python",
   "nbconvert_exporter": "python",
   "pygments_lexer": "ipython3",
   "version": "3.8.5"
  }
 },
 "nbformat": 4,
 "nbformat_minor": 4
}
