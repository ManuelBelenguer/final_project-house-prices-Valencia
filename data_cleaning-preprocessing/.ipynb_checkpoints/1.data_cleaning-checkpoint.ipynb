{
 "cells": [
  {
   "cell_type": "code",
   "execution_count": 1,
   "metadata": {},
   "outputs": [],
   "source": [
    "import pandas as pd\n",
    "import os\n",
    "import warnings\n",
    "warnings.filterwarnings('ignore')\n",
    "\n",
    "from sklearn.model_selection import train_test_split\n",
    "from sklearn.model_selection import cross_val_score, GridSearchCV\n",
    "from sklearn.ensemble import RandomForestRegressor\n",
    "from sklearn.preprocessing import MinMaxScaler\n",
    "from sklearn import metrics\n"
   ]
  },
  {
   "cell_type": "code",
   "execution_count": 2,
   "metadata": {},
   "outputs": [],
   "source": [
    "database = pd.read_csv('./datasets/dataframe0.csv')"
   ]
  },
  {
   "cell_type": "code",
   "execution_count": 3,
   "metadata": {},
   "outputs": [],
   "source": [
    "for x in range(243):\n",
    "    new_data = pd.read_csv('./datasets/dataframe'+str(x+1)+'.csv')\n",
    "    database = pd.concat([database, new_data])"
   ]
  },
  {
   "cell_type": "code",
   "execution_count": 5,
   "metadata": {},
   "outputs": [
    {
     "data": {
      "text/plain": [
       "(7272, 8)"
      ]
     },
     "execution_count": 5,
     "metadata": {},
     "output_type": "execute_result"
    }
   ],
   "source": [
    "df = database\n",
    "df.shape"
   ]
  },
  {
   "cell_type": "code",
   "execution_count": 7,
   "metadata": {},
   "outputs": [],
   "source": [
    "# security = database"
   ]
  },
  {
   "cell_type": "code",
   "execution_count": 8,
   "metadata": {},
   "outputs": [],
   "source": [
    "df = df.reset_index()"
   ]
  },
  {
   "cell_type": "code",
   "execution_count": 9,
   "metadata": {},
   "outputs": [
    {
     "data": {
      "text/html": [
       "<div>\n",
       "<style scoped>\n",
       "    .dataframe tbody tr th:only-of-type {\n",
       "        vertical-align: middle;\n",
       "    }\n",
       "\n",
       "    .dataframe tbody tr th {\n",
       "        vertical-align: top;\n",
       "    }\n",
       "\n",
       "    .dataframe thead th {\n",
       "        text-align: right;\n",
       "    }\n",
       "</style>\n",
       "<table border=\"1\" class=\"dataframe\">\n",
       "  <thead>\n",
       "    <tr style=\"text-align: right;\">\n",
       "      <th></th>\n",
       "      <th>index</th>\n",
       "      <th>address</th>\n",
       "      <th>district</th>\n",
       "      <th>neighbourhood</th>\n",
       "      <th>sqft_surface</th>\n",
       "      <th>bedrooms</th>\n",
       "      <th>bathrooms</th>\n",
       "      <th>new_construction</th>\n",
       "      <th>price</th>\n",
       "    </tr>\n",
       "  </thead>\n",
       "  <tbody>\n",
       "    <tr>\n",
       "      <th>163</th>\n",
       "      <td>13</td>\n",
       "      <td>Casa en Carrer de Pedro Cabanes, nº 25</td>\n",
       "      <td>Torrefiel</td>\n",
       "      <td>Rascanya</td>\n",
       "      <td>None</td>\n",
       "      <td>1</td>\n",
       "      <td>689\\r\\n €/m²</td>\n",
       "      <td>None</td>\n",
       "      <td>120.000</td>\n",
       "    </tr>\n",
       "    <tr>\n",
       "      <th>578</th>\n",
       "      <td>8</td>\n",
       "      <td>Loft en Carrer del Dramaturg Àngel Guimerà, ce...</td>\n",
       "      <td>La Petxina</td>\n",
       "      <td>Extramurs</td>\n",
       "      <td>None</td>\n",
       "      <td>1</td>\n",
       "      <td>3.571\\r\\n €/m²</td>\n",
       "      <td>None</td>\n",
       "      <td>125.000</td>\n",
       "    </tr>\n",
       "    <tr>\n",
       "      <th>815</th>\n",
       "      <td>5</td>\n",
       "      <td>Piso en calle de Villanueva de Castellón</td>\n",
       "      <td>Tormos</td>\n",
       "      <td>La Saïdia</td>\n",
       "      <td>None</td>\n",
       "      <td>1</td>\n",
       "      <td>971\\r\\n €/m²</td>\n",
       "      <td>None</td>\n",
       "      <td>67.000</td>\n",
       "    </tr>\n",
       "    <tr>\n",
       "      <th>868</th>\n",
       "      <td>28</td>\n",
       "      <td>Piso en calle Regino Mas</td>\n",
       "      <td>Ciutat Fallera</td>\n",
       "      <td>Benicalap</td>\n",
       "      <td>None</td>\n",
       "      <td>1</td>\n",
       "      <td>563\\r\\n €/m²</td>\n",
       "      <td>None</td>\n",
       "      <td>40.034</td>\n",
       "    </tr>\n",
       "    <tr>\n",
       "      <th>941</th>\n",
       "      <td>11</td>\n",
       "      <td>Casa en Benifaraig</td>\n",
       "      <td>Benifaraig</td>\n",
       "      <td>Pobles del Nord</td>\n",
       "      <td>None</td>\n",
       "      <td>3</td>\n",
       "      <td>793\\r\\n €/m²</td>\n",
       "      <td>None</td>\n",
       "      <td>73.000</td>\n",
       "    </tr>\n",
       "    <tr>\n",
       "      <th>...</th>\n",
       "      <td>...</td>\n",
       "      <td>...</td>\n",
       "      <td>...</td>\n",
       "      <td>...</td>\n",
       "      <td>...</td>\n",
       "      <td>...</td>\n",
       "      <td>...</td>\n",
       "      <td>...</td>\n",
       "      <td>...</td>\n",
       "    </tr>\n",
       "    <tr>\n",
       "      <th>7028</th>\n",
       "      <td>14</td>\n",
       "      <td>Piso en Russafa</td>\n",
       "      <td>Russafa</td>\n",
       "      <td>L'Eixample</td>\n",
       "      <td>None</td>\n",
       "      <td>2</td>\n",
       "      <td>2.979\\r\\n €/m²</td>\n",
       "      <td>None</td>\n",
       "      <td>295.000</td>\n",
       "    </tr>\n",
       "    <tr>\n",
       "      <th>7259</th>\n",
       "      <td>5</td>\n",
       "      <td>Piso en calle Alfahuir</td>\n",
       "      <td>Orriols</td>\n",
       "      <td>Rascanya</td>\n",
       "      <td>None</td>\n",
       "      <td>None</td>\n",
       "      <td>None</td>\n",
       "      <td>None</td>\n",
       "      <td>346.800</td>\n",
       "    </tr>\n",
       "    <tr>\n",
       "      <th>7263</th>\n",
       "      <td>9</td>\n",
       "      <td>Piso en calle de Escalante, nº 16</td>\n",
       "      <td>El Cabanyal-El Canyamelar</td>\n",
       "      <td>Poblats Marítims</td>\n",
       "      <td>None</td>\n",
       "      <td>2</td>\n",
       "      <td>3ª planta</td>\n",
       "      <td>None</td>\n",
       "      <td>248.950</td>\n",
       "    </tr>\n",
       "    <tr>\n",
       "      <th>7270</th>\n",
       "      <td>16</td>\n",
       "      <td>Piso en calle de Sagunto, nº 3</td>\n",
       "      <td>El Carme</td>\n",
       "      <td>Ciutat Vella</td>\n",
       "      <td>None</td>\n",
       "      <td>2</td>\n",
       "      <td>3ª planta</td>\n",
       "      <td>None</td>\n",
       "      <td>335.000</td>\n",
       "    </tr>\n",
       "    <tr>\n",
       "      <th>7271</th>\n",
       "      <td>17</td>\n",
       "      <td>Piso en calle de la Bolsería</td>\n",
       "      <td>El Mercat</td>\n",
       "      <td>Ciutat Vella</td>\n",
       "      <td>None</td>\n",
       "      <td>None</td>\n",
       "      <td>None</td>\n",
       "      <td>None</td>\n",
       "      <td>242.000</td>\n",
       "    </tr>\n",
       "  </tbody>\n",
       "</table>\n",
       "<p>144 rows × 9 columns</p>\n",
       "</div>"
      ],
      "text/plain": [
       "      index                                            address  \\\n",
       "163      13             Casa en Carrer de Pedro Cabanes, nº 25   \n",
       "578       8  Loft en Carrer del Dramaturg Àngel Guimerà, ce...   \n",
       "815       5           Piso en calle de Villanueva de Castellón   \n",
       "868      28                           Piso en calle Regino Mas   \n",
       "941      11                                 Casa en Benifaraig   \n",
       "...     ...                                                ...   \n",
       "7028     14                                    Piso en Russafa   \n",
       "7259      5                             Piso en calle Alfahuir   \n",
       "7263      9                  Piso en calle de Escalante, nº 16   \n",
       "7270     16                     Piso en calle de Sagunto, nº 3   \n",
       "7271     17                       Piso en calle de la Bolsería   \n",
       "\n",
       "                        district     neighbourhood sqft_surface bedrooms  \\\n",
       "163                   Torrefiel           Rascanya         None        1   \n",
       "578                  La Petxina          Extramurs         None        1   \n",
       "815                      Tormos          La Saïdia         None        1   \n",
       "868              Ciutat Fallera          Benicalap         None        1   \n",
       "941                  Benifaraig    Pobles del Nord         None        3   \n",
       "...                          ...               ...          ...      ...   \n",
       "7028                    Russafa         L'Eixample         None        2   \n",
       "7259                    Orriols           Rascanya         None     None   \n",
       "7263  El Cabanyal-El Canyamelar   Poblats Marítims         None        2   \n",
       "7270                   El Carme       Ciutat Vella         None        2   \n",
       "7271                  El Mercat       Ciutat Vella         None     None   \n",
       "\n",
       "           bathrooms new_construction    price  \n",
       "163     689\\r\\n €/m²             None  120.000  \n",
       "578   3.571\\r\\n €/m²             None  125.000  \n",
       "815     971\\r\\n €/m²             None   67.000  \n",
       "868     563\\r\\n €/m²             None   40.034  \n",
       "941     793\\r\\n €/m²             None   73.000  \n",
       "...              ...              ...      ...  \n",
       "7028  2.979\\r\\n €/m²             None  295.000  \n",
       "7259            None             None  346.800  \n",
       "7263       3ª planta             None  248.950  \n",
       "7270       3ª planta             None  335.000  \n",
       "7271            None             None  242.000  \n",
       "\n",
       "[144 rows x 9 columns]"
      ]
     },
     "execution_count": 9,
     "metadata": {},
     "output_type": "execute_result"
    }
   ],
   "source": [
    "df[df['sqft_surface']=='None']"
   ]
  },
  {
   "cell_type": "code",
   "execution_count": 10,
   "metadata": {},
   "outputs": [],
   "source": [
    "try_df = df[df.sqft_surface != 'None']"
   ]
  },
  {
   "cell_type": "code",
   "execution_count": 11,
   "metadata": {},
   "outputs": [
    {
     "data": {
      "text/plain": [
       "(7100, 9)"
      ]
     },
     "execution_count": 11,
     "metadata": {},
     "output_type": "execute_result"
    }
   ],
   "source": [
    "df_noduplicates =  try_df.drop_duplicates()\n",
    "df_noduplicates.shape"
   ]
  },
  {
   "cell_type": "code",
   "execution_count": 12,
   "metadata": {},
   "outputs": [
    {
     "data": {
      "text/html": [
       "<div>\n",
       "<style scoped>\n",
       "    .dataframe tbody tr th:only-of-type {\n",
       "        vertical-align: middle;\n",
       "    }\n",
       "\n",
       "    .dataframe tbody tr th {\n",
       "        vertical-align: top;\n",
       "    }\n",
       "\n",
       "    .dataframe thead th {\n",
       "        text-align: right;\n",
       "    }\n",
       "</style>\n",
       "<table border=\"1\" class=\"dataframe\">\n",
       "  <thead>\n",
       "    <tr style=\"text-align: right;\">\n",
       "      <th></th>\n",
       "      <th>index</th>\n",
       "      <th>address</th>\n",
       "      <th>district</th>\n",
       "      <th>neighbourhood</th>\n",
       "      <th>sqft_surface</th>\n",
       "      <th>bedrooms</th>\n",
       "      <th>bathrooms</th>\n",
       "      <th>new_construction</th>\n",
       "      <th>price</th>\n",
       "    </tr>\n",
       "  </thead>\n",
       "  <tbody>\n",
       "    <tr>\n",
       "      <th>0</th>\n",
       "      <td>0</td>\n",
       "      <td>Piso en Avinguda del CID, cerca de Plaça de Pe...</td>\n",
       "      <td>Soternes</td>\n",
       "      <td>L'Olivereta</td>\n",
       "      <td>100</td>\n",
       "      <td>3</td>\n",
       "      <td>1</td>\n",
       "      <td>None</td>\n",
       "      <td>104.0</td>\n",
       "    </tr>\n",
       "    <tr>\n",
       "      <th>1</th>\n",
       "      <td>1</td>\n",
       "      <td>Piso en Sant Isidre</td>\n",
       "      <td>Sant Isidre</td>\n",
       "      <td>Patraix</td>\n",
       "      <td>105</td>\n",
       "      <td>3</td>\n",
       "      <td>2</td>\n",
       "      <td>None</td>\n",
       "      <td>129.7</td>\n",
       "    </tr>\n",
       "    <tr>\n",
       "      <th>2</th>\n",
       "      <td>2</td>\n",
       "      <td>Piso en Els Orriols</td>\n",
       "      <td>Orriols</td>\n",
       "      <td>Rascanya</td>\n",
       "      <td>79</td>\n",
       "      <td>3</td>\n",
       "      <td>1</td>\n",
       "      <td>None</td>\n",
       "      <td>69.0</td>\n",
       "    </tr>\n",
       "    <tr>\n",
       "      <th>3</th>\n",
       "      <td>3</td>\n",
       "      <td>Piso en Carrer de Pedro Cabanes, cerca de Aven...</td>\n",
       "      <td>Sant Antoni</td>\n",
       "      <td>La Saïdia</td>\n",
       "      <td>68</td>\n",
       "      <td>3</td>\n",
       "      <td>1</td>\n",
       "      <td>None</td>\n",
       "      <td>63.5</td>\n",
       "    </tr>\n",
       "    <tr>\n",
       "      <th>4</th>\n",
       "      <td>4</td>\n",
       "      <td>Casa en calle de Escalante, cerca de Calle del...</td>\n",
       "      <td>El Cabanyal-El Canyamelar</td>\n",
       "      <td>Poblats Marítims</td>\n",
       "      <td>42</td>\n",
       "      <td>1</td>\n",
       "      <td>1</td>\n",
       "      <td>None</td>\n",
       "      <td>100.0</td>\n",
       "    </tr>\n",
       "    <tr>\n",
       "      <th>...</th>\n",
       "      <td>...</td>\n",
       "      <td>...</td>\n",
       "      <td>...</td>\n",
       "      <td>...</td>\n",
       "      <td>...</td>\n",
       "      <td>...</td>\n",
       "      <td>...</td>\n",
       "      <td>...</td>\n",
       "      <td>...</td>\n",
       "    </tr>\n",
       "    <tr>\n",
       "      <th>7265</th>\n",
       "      <td>11</td>\n",
       "      <td>Casa en Valencia</td>\n",
       "      <td>Favara</td>\n",
       "      <td>Patraix</td>\n",
       "      <td>354</td>\n",
       "      <td>4</td>\n",
       "      <td>4</td>\n",
       "      <td>None</td>\n",
       "      <td>375.0</td>\n",
       "    </tr>\n",
       "    <tr>\n",
       "      <th>7266</th>\n",
       "      <td>12</td>\n",
       "      <td>Piso en calle de Navarra, nº 10</td>\n",
       "      <td>Arrancapins</td>\n",
       "      <td>Extramurs</td>\n",
       "      <td>127</td>\n",
       "      <td>4</td>\n",
       "      <td>2</td>\n",
       "      <td>None</td>\n",
       "      <td>267.0</td>\n",
       "    </tr>\n",
       "    <tr>\n",
       "      <th>7267</th>\n",
       "      <td>13</td>\n",
       "      <td>Piso en calle de Blanes, nº 3</td>\n",
       "      <td>El Mercat</td>\n",
       "      <td>Ciutat Vella</td>\n",
       "      <td>151</td>\n",
       "      <td>4</td>\n",
       "      <td>2</td>\n",
       "      <td>None</td>\n",
       "      <td>336.0</td>\n",
       "    </tr>\n",
       "    <tr>\n",
       "      <th>7268</th>\n",
       "      <td>14</td>\n",
       "      <td>Piso en calle del Padre Urbano, nº 19</td>\n",
       "      <td>Sant Antoni</td>\n",
       "      <td>La Saïdia</td>\n",
       "      <td>191</td>\n",
       "      <td>4</td>\n",
       "      <td>2</td>\n",
       "      <td>None</td>\n",
       "      <td>360.0</td>\n",
       "    </tr>\n",
       "    <tr>\n",
       "      <th>7269</th>\n",
       "      <td>15</td>\n",
       "      <td>Piso en Carrer de Maties Perelló, nº 15</td>\n",
       "      <td>Gran Via</td>\n",
       "      <td>L'Eixample</td>\n",
       "      <td>140</td>\n",
       "      <td>6</td>\n",
       "      <td>2</td>\n",
       "      <td>None</td>\n",
       "      <td>315.0</td>\n",
       "    </tr>\n",
       "  </tbody>\n",
       "</table>\n",
       "<p>7100 rows × 9 columns</p>\n",
       "</div>"
      ],
      "text/plain": [
       "      index                                            address  \\\n",
       "0         0  Piso en Avinguda del CID, cerca de Plaça de Pe...   \n",
       "1         1                                Piso en Sant Isidre   \n",
       "2         2                                Piso en Els Orriols   \n",
       "3         3  Piso en Carrer de Pedro Cabanes, cerca de Aven...   \n",
       "4         4  Casa en calle de Escalante, cerca de Calle del...   \n",
       "...     ...                                                ...   \n",
       "7265     11                                   Casa en Valencia   \n",
       "7266     12                    Piso en calle de Navarra, nº 10   \n",
       "7267     13                      Piso en calle de Blanes, nº 3   \n",
       "7268     14              Piso en calle del Padre Urbano, nº 19   \n",
       "7269     15            Piso en Carrer de Maties Perelló, nº 15   \n",
       "\n",
       "                        district     neighbourhood sqft_surface bedrooms  \\\n",
       "0                      Soternes        L'Olivereta          100        3   \n",
       "1                   Sant Isidre            Patraix          105        3   \n",
       "2                       Orriols           Rascanya           79        3   \n",
       "3                   Sant Antoni          La Saïdia           68        3   \n",
       "4     El Cabanyal-El Canyamelar   Poblats Marítims           42        1   \n",
       "...                          ...               ...          ...      ...   \n",
       "7265                     Favara            Patraix          354        4   \n",
       "7266                Arrancapins          Extramurs          127        4   \n",
       "7267                  El Mercat       Ciutat Vella          151        4   \n",
       "7268                Sant Antoni          La Saïdia          191        4   \n",
       "7269                   Gran Via         L'Eixample          140        6   \n",
       "\n",
       "     bathrooms new_construction  price  \n",
       "0            1             None  104.0  \n",
       "1            2             None  129.7  \n",
       "2            1             None   69.0  \n",
       "3            1             None   63.5  \n",
       "4            1             None  100.0  \n",
       "...        ...              ...    ...  \n",
       "7265         4             None  375.0  \n",
       "7266         2             None  267.0  \n",
       "7267         2             None  336.0  \n",
       "7268         2             None  360.0  \n",
       "7269         2             None  315.0  \n",
       "\n",
       "[7100 rows x 9 columns]"
      ]
     },
     "execution_count": 12,
     "metadata": {},
     "output_type": "execute_result"
    }
   ],
   "source": [
    "df_noduplicates"
   ]
  },
  {
   "cell_type": "code",
   "execution_count": 15,
   "metadata": {},
   "outputs": [
    {
     "data": {
      "text/html": [
       "<div>\n",
       "<style scoped>\n",
       "    .dataframe tbody tr th:only-of-type {\n",
       "        vertical-align: middle;\n",
       "    }\n",
       "\n",
       "    .dataframe tbody tr th {\n",
       "        vertical-align: top;\n",
       "    }\n",
       "\n",
       "    .dataframe thead th {\n",
       "        text-align: right;\n",
       "    }\n",
       "</style>\n",
       "<table border=\"1\" class=\"dataframe\">\n",
       "  <thead>\n",
       "    <tr style=\"text-align: right;\">\n",
       "      <th></th>\n",
       "      <th>index</th>\n",
       "      <th>address</th>\n",
       "      <th>district</th>\n",
       "      <th>neighbourhood</th>\n",
       "      <th>sqft_surface</th>\n",
       "      <th>bedrooms</th>\n",
       "      <th>bathrooms</th>\n",
       "      <th>new_construction</th>\n",
       "      <th>price</th>\n",
       "    </tr>\n",
       "  </thead>\n",
       "  <tbody>\n",
       "    <tr>\n",
       "      <th>0</th>\n",
       "      <td>0</td>\n",
       "      <td>Piso en Avinguda del CID, cerca de Plaça de Pe...</td>\n",
       "      <td>Soternes</td>\n",
       "      <td>L'Olivereta</td>\n",
       "      <td>100</td>\n",
       "      <td>3</td>\n",
       "      <td>1</td>\n",
       "      <td>None</td>\n",
       "      <td>104.0</td>\n",
       "    </tr>\n",
       "    <tr>\n",
       "      <th>1</th>\n",
       "      <td>1</td>\n",
       "      <td>Piso en Sant Isidre</td>\n",
       "      <td>Sant Isidre</td>\n",
       "      <td>Patraix</td>\n",
       "      <td>105</td>\n",
       "      <td>3</td>\n",
       "      <td>2</td>\n",
       "      <td>None</td>\n",
       "      <td>129.7</td>\n",
       "    </tr>\n",
       "    <tr>\n",
       "      <th>2</th>\n",
       "      <td>2</td>\n",
       "      <td>Piso en Els Orriols</td>\n",
       "      <td>Orriols</td>\n",
       "      <td>Rascanya</td>\n",
       "      <td>79</td>\n",
       "      <td>3</td>\n",
       "      <td>1</td>\n",
       "      <td>None</td>\n",
       "      <td>69.0</td>\n",
       "    </tr>\n",
       "    <tr>\n",
       "      <th>3</th>\n",
       "      <td>3</td>\n",
       "      <td>Piso en Carrer de Pedro Cabanes, cerca de Aven...</td>\n",
       "      <td>Sant Antoni</td>\n",
       "      <td>La Saïdia</td>\n",
       "      <td>68</td>\n",
       "      <td>3</td>\n",
       "      <td>1</td>\n",
       "      <td>None</td>\n",
       "      <td>63.5</td>\n",
       "    </tr>\n",
       "    <tr>\n",
       "      <th>4</th>\n",
       "      <td>4</td>\n",
       "      <td>Casa en calle de Escalante, cerca de Calle del...</td>\n",
       "      <td>El Cabanyal-El Canyamelar</td>\n",
       "      <td>Poblats Marítims</td>\n",
       "      <td>42</td>\n",
       "      <td>1</td>\n",
       "      <td>1</td>\n",
       "      <td>None</td>\n",
       "      <td>100.0</td>\n",
       "    </tr>\n",
       "  </tbody>\n",
       "</table>\n",
       "</div>"
      ],
      "text/plain": [
       "   index                                            address  \\\n",
       "0      0  Piso en Avinguda del CID, cerca de Plaça de Pe...   \n",
       "1      1                                Piso en Sant Isidre   \n",
       "2      2                                Piso en Els Orriols   \n",
       "3      3  Piso en Carrer de Pedro Cabanes, cerca de Aven...   \n",
       "4      4  Casa en calle de Escalante, cerca de Calle del...   \n",
       "\n",
       "                     district     neighbourhood sqft_surface bedrooms  \\\n",
       "0                   Soternes        L'Olivereta          100        3   \n",
       "1                Sant Isidre            Patraix          105        3   \n",
       "2                    Orriols           Rascanya           79        3   \n",
       "3                Sant Antoni          La Saïdia           68        3   \n",
       "4  El Cabanyal-El Canyamelar   Poblats Marítims           42        1   \n",
       "\n",
       "  bathrooms new_construction  price  \n",
       "0         1             None  104.0  \n",
       "1         2             None  129.7  \n",
       "2         1             None   69.0  \n",
       "3         1             None   63.5  \n",
       "4         1             None  100.0  "
      ]
     },
     "execution_count": 15,
     "metadata": {},
     "output_type": "execute_result"
    }
   ],
   "source": [
    "# ### Droping disturbing elements in numerical columns\n",
    "str_bed = []\n",
    "str_bath = []\n",
    "\n",
    "for x in df_noduplicates['bedrooms']:\n",
    "    y = str(x)\n",
    "    str_bed.append(y)\n",
    "for x in df_noduplicates['bathrooms']: # convert elements to string\n",
    "    y = str(x)\n",
    "    str_bath.append(y)\n",
    "    \n",
    "df_noduplicates['bedrooms'] = str_bed\n",
    "df_noduplicates['bathrooms'] = str_bath # define column elements as string\n",
    "\n",
    "bed_todrop = df_noduplicates[df_noduplicates['bedrooms'].map(len) > 1]\n",
    "bath_todrop = df_noduplicates[df_noduplicates['bathrooms'].map(len) > 1] # select the elements to drop\n",
    "\n",
    "index_todrop = list(bed_todrop.index)\n",
    "index_todrop2 = list(bath_todrop.index)\n",
    "\n",
    "\n",
    "for x in index_todrop:\n",
    "    df_noduplicates = df_noduplicates.drop([x])\n",
    "\n",
    "\n",
    "for x in index_todrop2:\n",
    "    try:\n",
    "        df_noduplicates = df_noduplicates.drop([x])\n",
    "    except:\n",
    "        pass\n",
    "df_noduplicates.head()"
   ]
  },
  {
   "cell_type": "markdown",
   "metadata": {},
   "source": [
    "#### Correcting address column"
   ]
  },
  {
   "cell_type": "code",
   "execution_count": 16,
   "metadata": {},
   "outputs": [],
   "source": [
    "df_noduplicates['address'] = df_noduplicates['address'].apply(lambda x: x.split(',')[0])\n",
    "df_noduplicates['address'] = df_noduplicates['address'].apply(lambda x: x.split(' en ')[1])\n",
    "df_noduplicates['address'] = df_noduplicates['address'].apply(lambda x: x.strip(\"'\"))\n",
    "df_noduplicates['address'] = df_noduplicates['address'].apply(lambda x: x.split(\"-\")[0])"
   ]
  },
  {
   "cell_type": "markdown",
   "metadata": {},
   "source": [
    "#### Save dataset to csv"
   ]
  },
  {
   "cell_type": "code",
   "execution_count": 215,
   "metadata": {},
   "outputs": [
    {
     "data": {
      "text/html": [
       "<div>\n",
       "<style scoped>\n",
       "    .dataframe tbody tr th:only-of-type {\n",
       "        vertical-align: middle;\n",
       "    }\n",
       "\n",
       "    .dataframe tbody tr th {\n",
       "        vertical-align: top;\n",
       "    }\n",
       "\n",
       "    .dataframe thead th {\n",
       "        text-align: right;\n",
       "    }\n",
       "</style>\n",
       "<table border=\"1\" class=\"dataframe\">\n",
       "  <thead>\n",
       "    <tr style=\"text-align: right;\">\n",
       "      <th></th>\n",
       "      <th>index</th>\n",
       "      <th>address</th>\n",
       "      <th>district</th>\n",
       "      <th>neighbourhood</th>\n",
       "      <th>sqft_surface</th>\n",
       "      <th>bedrooms</th>\n",
       "      <th>bathrooms</th>\n",
       "      <th>new_construction</th>\n",
       "      <th>price</th>\n",
       "    </tr>\n",
       "  </thead>\n",
       "  <tbody>\n",
       "    <tr>\n",
       "      <th>0</th>\n",
       "      <td>0</td>\n",
       "      <td>Avinguda del CID</td>\n",
       "      <td>Soternes</td>\n",
       "      <td>L'Olivereta</td>\n",
       "      <td>100</td>\n",
       "      <td>3</td>\n",
       "      <td>1</td>\n",
       "      <td>None</td>\n",
       "      <td>104.0</td>\n",
       "    </tr>\n",
       "    <tr>\n",
       "      <th>1</th>\n",
       "      <td>1</td>\n",
       "      <td>Sant Isidre</td>\n",
       "      <td>Sant Isidre</td>\n",
       "      <td>Patraix</td>\n",
       "      <td>105</td>\n",
       "      <td>3</td>\n",
       "      <td>2</td>\n",
       "      <td>None</td>\n",
       "      <td>129.7</td>\n",
       "    </tr>\n",
       "    <tr>\n",
       "      <th>2</th>\n",
       "      <td>2</td>\n",
       "      <td>Els Orriols</td>\n",
       "      <td>Orriols</td>\n",
       "      <td>Rascanya</td>\n",
       "      <td>79</td>\n",
       "      <td>3</td>\n",
       "      <td>1</td>\n",
       "      <td>None</td>\n",
       "      <td>69.0</td>\n",
       "    </tr>\n",
       "    <tr>\n",
       "      <th>3</th>\n",
       "      <td>3</td>\n",
       "      <td>Carrer de Pedro Cabanes</td>\n",
       "      <td>Sant Antoni</td>\n",
       "      <td>La Saïdia</td>\n",
       "      <td>68</td>\n",
       "      <td>3</td>\n",
       "      <td>1</td>\n",
       "      <td>None</td>\n",
       "      <td>63.5</td>\n",
       "    </tr>\n",
       "    <tr>\n",
       "      <th>4</th>\n",
       "      <td>4</td>\n",
       "      <td>calle de Escalante</td>\n",
       "      <td>El Cabanyal-El Canyamelar</td>\n",
       "      <td>Poblats Marítims</td>\n",
       "      <td>42</td>\n",
       "      <td>1</td>\n",
       "      <td>1</td>\n",
       "      <td>None</td>\n",
       "      <td>100.0</td>\n",
       "    </tr>\n",
       "  </tbody>\n",
       "</table>\n",
       "</div>"
      ],
      "text/plain": [
       "   index                  address                    district  \\\n",
       "0      0         Avinguda del CID                   Soternes    \n",
       "1      1              Sant Isidre                Sant Isidre    \n",
       "2      2              Els Orriols                    Orriols    \n",
       "3      3  Carrer de Pedro Cabanes                Sant Antoni    \n",
       "4      4       calle de Escalante  El Cabanyal-El Canyamelar    \n",
       "\n",
       "      neighbourhood sqft_surface bedrooms bathrooms new_construction  price  \n",
       "0       L'Olivereta          100        3         1             None  104.0  \n",
       "1           Patraix          105        3         2             None  129.7  \n",
       "2          Rascanya           79        3         1             None   69.0  \n",
       "3         La Saïdia           68        3         1             None   63.5  \n",
       "4  Poblats Marítims           42        1         1             None  100.0  "
      ]
     },
     "execution_count": 215,
     "metadata": {},
     "output_type": "execute_result"
    }
   ],
   "source": [
    "df_noduplicates.to_csv('master_data.csv', index=False)\n",
    "df_noduplicates.head()"
   ]
  },
  {
   "cell_type": "code",
   "execution_count": 17,
   "metadata": {},
   "outputs": [],
   "source": [
    "to_try = df_noduplicates.drop(columns=['index','district'])"
   ]
  },
  {
   "cell_type": "code",
   "execution_count": 18,
   "metadata": {},
   "outputs": [
    {
     "data": {
      "text/plain": [
       "1    3495\n",
       "2    3264\n",
       "3     220\n",
       "4      47\n",
       "5       3\n",
       "6       1\n",
       "Name: bathrooms, dtype: int64"
      ]
     },
     "execution_count": 18,
     "metadata": {},
     "output_type": "execute_result"
    }
   ],
   "source": [
    "to_try['bathrooms'].value_counts()"
   ]
  },
  {
   "cell_type": "code",
   "execution_count": 19,
   "metadata": {},
   "outputs": [],
   "source": [
    "indexNames = to_try[to_try['neighbourhood'] == 'Capital)' ].index\n",
    "to_try.drop(indexNames , inplace=True)"
   ]
  },
  {
   "cell_type": "code",
   "execution_count": 20,
   "metadata": {},
   "outputs": [],
   "source": [
    "to_try['price'] = pd.to_numeric(to_try['price'])\n",
    "to_try['sqft_surface'] = pd.to_numeric(to_try['sqft_surface'])\n",
    "to_try['bedrooms'] = pd.to_numeric(to_try['bedrooms'])\n",
    "to_try['bathrooms'] = pd.to_numeric(to_try['bathrooms'])"
   ]
  },
  {
   "cell_type": "code",
   "execution_count": 21,
   "metadata": {},
   "outputs": [
    {
     "data": {
      "text/plain": [
       "address              object\n",
       "neighbourhood        object\n",
       "sqft_surface        float64\n",
       "bedrooms              int64\n",
       "bathrooms             int64\n",
       "new_construction     object\n",
       "price               float64\n",
       "dtype: object"
      ]
     },
     "execution_count": 21,
     "metadata": {},
     "output_type": "execute_result"
    }
   ],
   "source": [
    "to_try.dtypes"
   ]
  },
  {
   "cell_type": "code",
   "execution_count": 22,
   "metadata": {},
   "outputs": [],
   "source": [
    "numerical = to_try.select_dtypes(include='number')\n",
    "categorical = to_try.select_dtypes(include='object')"
   ]
  },
  {
   "cell_type": "code",
   "execution_count": 109,
   "metadata": {},
   "outputs": [],
   "source": [
    "#### Getting dummies\n",
    "dummies = pd.get_dummies(categorical, drop_first=True)"
   ]
  },
  {
   "cell_type": "code",
   "execution_count": 110,
   "metadata": {},
   "outputs": [],
   "source": [
    "data = pd.concat([numerical, dummies], axis=1)\n",
    "X = data.drop(['price'], axis=1)\n",
    "y = data['price']"
   ]
  },
  {
   "cell_type": "code",
   "execution_count": 111,
   "metadata": {},
   "outputs": [],
   "source": [
    "#### LET'S GOOOOOOOOOOOOOOOOOOOOOOOOOOOOOOOOOOOOOOOOOOOOOOOOOOOOOO"
   ]
  },
  {
   "cell_type": "code",
   "execution_count": 112,
   "metadata": {},
   "outputs": [],
   "source": [
    "X_train, X_test, y_train, y_test = train_test_split(X, y, test_size=0.33, random_state=42)"
   ]
  },
  {
   "cell_type": "code",
   "execution_count": 113,
   "metadata": {
    "collapsed": true,
    "jupyter": {
     "outputs_hidden": true
    }
   },
   "outputs": [
    {
     "data": {
      "text/plain": [
       "RandomForestRegressor(n_estimators=500, random_state=0)"
      ]
     },
     "execution_count": 113,
     "metadata": {},
     "output_type": "execute_result"
    }
   ],
   "source": [
    "RFReg = RandomForestRegressor(n_estimators = 500, random_state = 0)\n",
    "  \n",
    "#Fit the random forest regressor with training data represented by X_train and y_train\n",
    "RFReg.fit(X_train, y_train)"
   ]
  },
  {
   "cell_type": "code",
   "execution_count": 97,
   "metadata": {},
   "outputs": [
    {
     "name": "stdout",
     "output_type": "stream",
     "text": [
      "[-41.87592243 -44.32882207 -37.068449   -39.21059788 -39.20970235\n",
      " -38.01770915 -34.58337839 -69.37919381 -67.74831491 -74.94861343]\n"
     ]
    }
   ],
   "source": [
    "rfr_model(X, y)"
   ]
  },
  {
   "cell_type": "code",
   "execution_count": 114,
   "metadata": {},
   "outputs": [],
   "source": [
    "y_predict_rfr = RFReg.predict((X_test))"
   ]
  },
  {
   "cell_type": "code",
   "execution_count": 163,
   "metadata": {},
   "outputs": [],
   "source": [
    "unclear_address = df_noduplicates[df_noduplicates['address'].map(len) < 5]"
   ]
  },
  {
   "cell_type": "code",
   "execution_count": 164,
   "metadata": {},
   "outputs": [
    {
     "data": {
      "text/plain": [
       "a    3641\n",
       "l     665\n",
       "v     557\n",
       "e     510\n",
       "o     440\n",
       "r     328\n",
       "-     254\n",
       "u     220\n",
       "i     213\n",
       "       77\n",
       "x      56\n",
       "n      56\n",
       "I      10\n",
       "y       6\n",
       "*       5\n",
       "s       4\n",
       "C       2\n",
       "        2\n",
       "m       1\n",
       "R       1\n",
       "Name: address, dtype: int64"
      ]
     },
     "execution_count": 164,
     "metadata": {},
     "output_type": "execute_result"
    }
   ],
   "source": [
    "unclear_address['address'].value_counts()"
   ]
  },
  {
   "cell_type": "code",
   "execution_count": 161,
   "metadata": {},
   "outputs": [
    {
     "name": "stdout",
     "output_type": "stream",
     "text": [
      "7024\n"
     ]
    }
   ],
   "source": [
    "for a, b in zip()"
   ]
  }
 ],
 "metadata": {
  "kernelspec": {
   "display_name": "Python 3",
   "language": "python",
   "name": "python3"
  },
  "language_info": {
   "codemirror_mode": {
    "name": "ipython",
    "version": 3
   },
   "file_extension": ".py",
   "mimetype": "text/x-python",
   "name": "python",
   "nbconvert_exporter": "python",
   "pygments_lexer": "ipython3",
   "version": "3.8.5"
  }
 },
 "nbformat": 4,
 "nbformat_minor": 4
}
