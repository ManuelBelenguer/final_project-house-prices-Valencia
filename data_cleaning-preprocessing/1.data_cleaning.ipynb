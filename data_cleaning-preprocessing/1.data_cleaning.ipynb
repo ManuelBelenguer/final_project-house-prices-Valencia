{
 "cells": [
  {
   "cell_type": "markdown",
   "metadata": {},
   "source": [
    "#### Import libraries"
   ]
  },
  {
   "cell_type": "code",
   "execution_count": 20,
   "metadata": {},
   "outputs": [],
   "source": [
    "import pandas as pd\n",
    "import os\n",
    "import warnings\n",
    "warnings.filterwarnings('ignore')\n",
    "\n",
    "from sklearn.model_selection import train_test_split\n",
    "from sklearn.model_selection import cross_val_score, GridSearchCV\n",
    "from sklearn.ensemble import RandomForestRegressor\n",
    "from sklearn.preprocessing import MinMaxScaler\n",
    "from sklearn import metrics\n"
   ]
  },
  {
   "cell_type": "code",
   "execution_count": 21,
   "metadata": {},
   "outputs": [],
   "source": [
    "database = pd.read_csv('../scraping/datasets per page/dataframe0.csv')"
   ]
  },
  {
   "cell_type": "markdown",
   "metadata": {},
   "source": [
    "#### Build total dataset from datasets folder"
   ]
  },
  {
   "cell_type": "code",
   "execution_count": 22,
   "metadata": {},
   "outputs": [],
   "source": [
    "for x in range(243):\n",
    "    new_data = pd.read_csv('../scraping/datasets per page/dataframe'+str(x+1)+'.csv')\n",
    "    database = pd.concat([database, new_data])"
   ]
  },
  {
   "cell_type": "code",
   "execution_count": 23,
   "metadata": {},
   "outputs": [
    {
     "data": {
      "text/plain": [
       "(7272, 8)"
      ]
     },
     "execution_count": 23,
     "metadata": {},
     "output_type": "execute_result"
    }
   ],
   "source": [
    "df = database\n",
    "df.shape"
   ]
  },
  {
   "cell_type": "code",
   "execution_count": 24,
   "metadata": {},
   "outputs": [],
   "source": [
    "df = df.reset_index()"
   ]
  },
  {
   "cell_type": "markdown",
   "metadata": {},
   "source": [
    "#### Drop rows with \"None\" at sqft_surface"
   ]
  },
  {
   "cell_type": "code",
   "execution_count": 25,
   "metadata": {},
   "outputs": [],
   "source": [
    "df = df[df['sqft_surface']!='None']"
   ]
  },
  {
   "cell_type": "markdown",
   "metadata": {},
   "source": [
    "#### Drop duplicates"
   ]
  },
  {
   "cell_type": "code",
   "execution_count": 26,
   "metadata": {},
   "outputs": [
    {
     "data": {
      "text/plain": [
       "(7100, 9)"
      ]
     },
     "execution_count": 26,
     "metadata": {},
     "output_type": "execute_result"
    }
   ],
   "source": [
    "df_noduplicates = df.drop_duplicates()\n",
    "df_noduplicates.shape"
   ]
  },
  {
   "cell_type": "markdown",
   "metadata": {},
   "source": [
    "#### Droping disturbing elements in numerical columns"
   ]
  },
  {
   "cell_type": "code",
   "execution_count": 27,
   "metadata": {},
   "outputs": [
    {
     "data": {
      "text/html": [
       "<div>\n",
       "<style scoped>\n",
       "    .dataframe tbody tr th:only-of-type {\n",
       "        vertical-align: middle;\n",
       "    }\n",
       "\n",
       "    .dataframe tbody tr th {\n",
       "        vertical-align: top;\n",
       "    }\n",
       "\n",
       "    .dataframe thead th {\n",
       "        text-align: right;\n",
       "    }\n",
       "</style>\n",
       "<table border=\"1\" class=\"dataframe\">\n",
       "  <thead>\n",
       "    <tr style=\"text-align: right;\">\n",
       "      <th></th>\n",
       "      <th>index</th>\n",
       "      <th>address</th>\n",
       "      <th>district</th>\n",
       "      <th>neighbourhood</th>\n",
       "      <th>sqft_surface</th>\n",
       "      <th>bedrooms</th>\n",
       "      <th>bathrooms</th>\n",
       "      <th>new_construction</th>\n",
       "      <th>price</th>\n",
       "    </tr>\n",
       "  </thead>\n",
       "  <tbody>\n",
       "    <tr>\n",
       "      <th>0</th>\n",
       "      <td>0</td>\n",
       "      <td>Piso en Avinguda del CID, cerca de Plaça de Pe...</td>\n",
       "      <td>Soternes</td>\n",
       "      <td>L'Olivereta</td>\n",
       "      <td>100</td>\n",
       "      <td>3</td>\n",
       "      <td>1</td>\n",
       "      <td>None</td>\n",
       "      <td>104.0</td>\n",
       "    </tr>\n",
       "    <tr>\n",
       "      <th>1</th>\n",
       "      <td>1</td>\n",
       "      <td>Piso en Sant Isidre</td>\n",
       "      <td>Sant Isidre</td>\n",
       "      <td>Patraix</td>\n",
       "      <td>105</td>\n",
       "      <td>3</td>\n",
       "      <td>2</td>\n",
       "      <td>None</td>\n",
       "      <td>129.7</td>\n",
       "    </tr>\n",
       "    <tr>\n",
       "      <th>2</th>\n",
       "      <td>2</td>\n",
       "      <td>Piso en Els Orriols</td>\n",
       "      <td>Orriols</td>\n",
       "      <td>Rascanya</td>\n",
       "      <td>79</td>\n",
       "      <td>3</td>\n",
       "      <td>1</td>\n",
       "      <td>None</td>\n",
       "      <td>69.0</td>\n",
       "    </tr>\n",
       "    <tr>\n",
       "      <th>3</th>\n",
       "      <td>3</td>\n",
       "      <td>Piso en Carrer de Pedro Cabanes, cerca de Aven...</td>\n",
       "      <td>Sant Antoni</td>\n",
       "      <td>La Saïdia</td>\n",
       "      <td>68</td>\n",
       "      <td>3</td>\n",
       "      <td>1</td>\n",
       "      <td>None</td>\n",
       "      <td>63.5</td>\n",
       "    </tr>\n",
       "    <tr>\n",
       "      <th>4</th>\n",
       "      <td>4</td>\n",
       "      <td>Casa en calle de Escalante, cerca de Calle del...</td>\n",
       "      <td>El Cabanyal-El Canyamelar</td>\n",
       "      <td>Poblats Marítims</td>\n",
       "      <td>42</td>\n",
       "      <td>1</td>\n",
       "      <td>1</td>\n",
       "      <td>None</td>\n",
       "      <td>100.0</td>\n",
       "    </tr>\n",
       "  </tbody>\n",
       "</table>\n",
       "</div>"
      ],
      "text/plain": [
       "   index                                            address  \\\n",
       "0      0  Piso en Avinguda del CID, cerca de Plaça de Pe...   \n",
       "1      1                                Piso en Sant Isidre   \n",
       "2      2                                Piso en Els Orriols   \n",
       "3      3  Piso en Carrer de Pedro Cabanes, cerca de Aven...   \n",
       "4      4  Casa en calle de Escalante, cerca de Calle del...   \n",
       "\n",
       "                     district     neighbourhood sqft_surface bedrooms  \\\n",
       "0                   Soternes        L'Olivereta          100        3   \n",
       "1                Sant Isidre            Patraix          105        3   \n",
       "2                    Orriols           Rascanya           79        3   \n",
       "3                Sant Antoni          La Saïdia           68        3   \n",
       "4  El Cabanyal-El Canyamelar   Poblats Marítims           42        1   \n",
       "\n",
       "  bathrooms new_construction  price  \n",
       "0         1             None  104.0  \n",
       "1         2             None  129.7  \n",
       "2         1             None   69.0  \n",
       "3         1             None   63.5  \n",
       "4         1             None  100.0  "
      ]
     },
     "execution_count": 27,
     "metadata": {},
     "output_type": "execute_result"
    }
   ],
   "source": [
    "str_bed = []\n",
    "str_bath = []\n",
    "\n",
    "for x in df_noduplicates['bedrooms']:\n",
    "    y = str(x)\n",
    "    str_bed.append(y)\n",
    "for x in df_noduplicates['bathrooms']: # convert elements to string\n",
    "    y = str(x)\n",
    "    str_bath.append(y)\n",
    "    \n",
    "df_noduplicates['bedrooms'] = str_bed\n",
    "df_noduplicates['bathrooms'] = str_bath # define column elements as string\n",
    "\n",
    "bed_todrop = df_noduplicates[df_noduplicates['bedrooms'].map(len) > 1]\n",
    "bath_todrop = df_noduplicates[df_noduplicates['bathrooms'].map(len) > 1] # select the elements to drop\n",
    "\n",
    "index_todrop = list(bed_todrop.index)\n",
    "index_todrop2 = list(bath_todrop.index)\n",
    "\n",
    "\n",
    "for x in index_todrop:\n",
    "    df_noduplicates = df_noduplicates.drop([x])\n",
    "\n",
    "\n",
    "for x in index_todrop2:\n",
    "    try:\n",
    "        df_noduplicates = df_noduplicates.drop([x])\n",
    "    except:\n",
    "        pass\n",
    "df_noduplicates.head()"
   ]
  },
  {
   "cell_type": "markdown",
   "metadata": {},
   "source": [
    "#### Correcting address column"
   ]
  },
  {
   "cell_type": "code",
   "execution_count": 28,
   "metadata": {},
   "outputs": [],
   "source": [
    "df_noduplicates['address'] = df_noduplicates['address'].apply(lambda x: x.split(',')[0])\n",
    "df_noduplicates['address'] = df_noduplicates['address'].apply(lambda x: x.split(' en ')[1])\n",
    "df_noduplicates['address'] = df_noduplicates['address'].apply(lambda x: x.strip(\"'\"))\n",
    "df_noduplicates['address'] = df_noduplicates['address'].apply(lambda x: x.split(\"-\")[0])"
   ]
  },
  {
   "cell_type": "code",
   "execution_count": 29,
   "metadata": {},
   "outputs": [],
   "source": [
    "to_try = df_noduplicates.drop(columns=['index'])"
   ]
  },
  {
   "cell_type": "code",
   "execution_count": 30,
   "metadata": {},
   "outputs": [
    {
     "data": {
      "text/plain": [
       "1    3495\n",
       "2    3264\n",
       "3     220\n",
       "4      47\n",
       "5       3\n",
       "6       1\n",
       "Name: bathrooms, dtype: int64"
      ]
     },
     "execution_count": 30,
     "metadata": {},
     "output_type": "execute_result"
    }
   ],
   "source": [
    "to_try['bathrooms'].value_counts()"
   ]
  },
  {
   "cell_type": "markdown",
   "metadata": {},
   "source": [
    "#### Droping unclear addresses"
   ]
  },
  {
   "cell_type": "code",
   "execution_count": 31,
   "metadata": {},
   "outputs": [],
   "source": [
    "indexNames = to_try[to_try['neighbourhood'] == 'Capital)' ].index\n",
    "to_try.drop(indexNames , inplace=True)"
   ]
  },
  {
   "cell_type": "code",
   "execution_count": 36,
   "metadata": {},
   "outputs": [],
   "source": [
    "index = to_try[to_try['district']=='None'].index\n",
    "to_try.drop(index, inplace = True)\n",
    "index2 = to_try[to_try['district']=='Pobles del Nord'].index\n",
    "to_try.drop(index2, inplace = True)\n",
    "index3 = to_try[to_try['district']=='Pobles del Sud'].index\n",
    "to_try.drop(index3, inplace = True)\n",
    "index4 = to_try[to_try['district']==\"Pobles de l'Oest\"].index\n",
    "to_try.drop(index4, inplace = True)"
   ]
  },
  {
   "cell_type": "markdown",
   "metadata": {},
   "source": [
    "#### Droping properties where sqft_living is bellow 10 as they're considered mistakes."
   ]
  },
  {
   "cell_type": "code",
   "execution_count": 38,
   "metadata": {},
   "outputs": [],
   "source": [
    "index = to_try[to_try['sqft_surface']<10].index\n",
    "to_try.drop(index, inplace = True)"
   ]
  },
  {
   "cell_type": "markdown",
   "metadata": {},
   "source": [
    "#### Multiplying price to get it's real value"
   ]
  },
  {
   "cell_type": "code",
   "execution_count": 34,
   "metadata": {},
   "outputs": [],
   "source": [
    "to_try['price'] = to_try['price'].apply(lambda x: x*1000)"
   ]
  },
  {
   "cell_type": "markdown",
   "metadata": {},
   "source": [
    "#### Converting to numerical"
   ]
  },
  {
   "cell_type": "code",
   "execution_count": null,
   "metadata": {},
   "outputs": [],
   "source": [
    "to_try['price'] = pd.to_numeric(to_try['price'])\n",
    "to_try['sqft_surface'] = pd.to_numeric(to_try['sqft_surface'])\n",
    "to_try['bedrooms'] = pd.to_numeric(to_try['bedrooms'])\n",
    "to_try['bathrooms'] = pd.to_numeric(to_try['bathrooms'])"
   ]
  },
  {
   "cell_type": "markdown",
   "metadata": {},
   "source": [
    "#### Save dataset to csv"
   ]
  },
  {
   "cell_type": "code",
   "execution_count": 19,
   "metadata": {},
   "outputs": [
    {
     "data": {
      "text/html": [
       "<div>\n",
       "<style scoped>\n",
       "    .dataframe tbody tr th:only-of-type {\n",
       "        vertical-align: middle;\n",
       "    }\n",
       "\n",
       "    .dataframe tbody tr th {\n",
       "        vertical-align: top;\n",
       "    }\n",
       "\n",
       "    .dataframe thead th {\n",
       "        text-align: right;\n",
       "    }\n",
       "</style>\n",
       "<table border=\"1\" class=\"dataframe\">\n",
       "  <thead>\n",
       "    <tr style=\"text-align: right;\">\n",
       "      <th></th>\n",
       "      <th>index</th>\n",
       "      <th>address</th>\n",
       "      <th>district</th>\n",
       "      <th>neighbourhood</th>\n",
       "      <th>sqft_surface</th>\n",
       "      <th>bedrooms</th>\n",
       "      <th>bathrooms</th>\n",
       "      <th>new_construction</th>\n",
       "      <th>price</th>\n",
       "    </tr>\n",
       "  </thead>\n",
       "  <tbody>\n",
       "    <tr>\n",
       "      <th>0</th>\n",
       "      <td>0</td>\n",
       "      <td>Avinguda del CID</td>\n",
       "      <td>Soternes</td>\n",
       "      <td>L'Olivereta</td>\n",
       "      <td>100</td>\n",
       "      <td>3</td>\n",
       "      <td>1</td>\n",
       "      <td>None</td>\n",
       "      <td>104.0</td>\n",
       "    </tr>\n",
       "    <tr>\n",
       "      <th>1</th>\n",
       "      <td>1</td>\n",
       "      <td>Sant Isidre</td>\n",
       "      <td>Sant Isidre</td>\n",
       "      <td>Patraix</td>\n",
       "      <td>105</td>\n",
       "      <td>3</td>\n",
       "      <td>2</td>\n",
       "      <td>None</td>\n",
       "      <td>129.7</td>\n",
       "    </tr>\n",
       "    <tr>\n",
       "      <th>2</th>\n",
       "      <td>2</td>\n",
       "      <td>Els Orriols</td>\n",
       "      <td>Orriols</td>\n",
       "      <td>Rascanya</td>\n",
       "      <td>79</td>\n",
       "      <td>3</td>\n",
       "      <td>1</td>\n",
       "      <td>None</td>\n",
       "      <td>69.0</td>\n",
       "    </tr>\n",
       "    <tr>\n",
       "      <th>3</th>\n",
       "      <td>3</td>\n",
       "      <td>Carrer de Pedro Cabanes</td>\n",
       "      <td>Sant Antoni</td>\n",
       "      <td>La Saïdia</td>\n",
       "      <td>68</td>\n",
       "      <td>3</td>\n",
       "      <td>1</td>\n",
       "      <td>None</td>\n",
       "      <td>63.5</td>\n",
       "    </tr>\n",
       "    <tr>\n",
       "      <th>4</th>\n",
       "      <td>4</td>\n",
       "      <td>calle de Escalante</td>\n",
       "      <td>El Cabanyal-El Canyamelar</td>\n",
       "      <td>Poblats Marítims</td>\n",
       "      <td>42</td>\n",
       "      <td>1</td>\n",
       "      <td>1</td>\n",
       "      <td>None</td>\n",
       "      <td>100.0</td>\n",
       "    </tr>\n",
       "  </tbody>\n",
       "</table>\n",
       "</div>"
      ],
      "text/plain": [
       "   index                  address                    district  \\\n",
       "0      0         Avinguda del CID                   Soternes    \n",
       "1      1              Sant Isidre                Sant Isidre    \n",
       "2      2              Els Orriols                    Orriols    \n",
       "3      3  Carrer de Pedro Cabanes                Sant Antoni    \n",
       "4      4       calle de Escalante  El Cabanyal-El Canyamelar    \n",
       "\n",
       "      neighbourhood sqft_surface bedrooms bathrooms new_construction  price  \n",
       "0       L'Olivereta          100        3         1             None  104.0  \n",
       "1           Patraix          105        3         2             None  129.7  \n",
       "2          Rascanya           79        3         1             None   69.0  \n",
       "3         La Saïdia           68        3         1             None   63.5  \n",
       "4  Poblats Marítims           42        1         1             None  100.0  "
      ]
     },
     "execution_count": 19,
     "metadata": {},
     "output_type": "execute_result"
    }
   ],
   "source": [
    "df_noduplicates.to_csv('master_data.csv', index=False)\n",
    "df_noduplicates.head()"
   ]
  }
 ],
 "metadata": {
  "kernelspec": {
   "display_name": "Python 3",
   "language": "python",
   "name": "python3"
  },
  "language_info": {
   "codemirror_mode": {
    "name": "ipython",
    "version": 3
   },
   "file_extension": ".py",
   "mimetype": "text/x-python",
   "name": "python",
   "nbconvert_exporter": "python",
   "pygments_lexer": "ipython3",
   "version": "3.8.5"
  }
 },
 "nbformat": 4,
 "nbformat_minor": 4
}
